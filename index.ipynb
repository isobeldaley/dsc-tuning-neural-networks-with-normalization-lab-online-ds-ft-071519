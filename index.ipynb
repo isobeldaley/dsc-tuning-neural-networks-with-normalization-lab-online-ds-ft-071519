{
 "cells": [
  {
   "cell_type": "markdown",
   "metadata": {},
   "source": [
    "# Tuning Neural Networks with Normalization - Lab"
   ]
  },
  {
   "cell_type": "markdown",
   "metadata": {},
   "source": [
    "## Introduction\n",
    "\n",
    "For this lab on initialization and optimization, you'll build a neural network to perform a regression task.\n",
    "\n",
    "It is worth noting that getting regression to work with neural networks can be difficult because the output is unbounded ($\\hat y$ can technically range from $-\\infty$ to $+\\infty$, and the models are especially prone to exploding gradients. This issue makes a regression exercise the perfect learning case for tinkering with normalization and optimization strategies to ensure proper convergence!\n",
    "\n",
    "## Objectives\n",
    "You will be able to:\n",
    "* Build a neural network using Keras\n",
    "* Normalize your data to assist algorithm convergence\n",
    "* Implement and observe the impact of various initialization techniques"
   ]
  },
  {
   "cell_type": "code",
   "execution_count": 67,
   "metadata": {},
   "outputs": [],
   "source": [
    "import numpy as np\n",
    "import pandas as pd\n",
    "from keras.models import Sequential\n",
    "from keras import initializers\n",
    "from keras import layers\n",
    "from keras.wrappers.scikit_learn import KerasRegressor\n",
    "from sklearn.model_selection import cross_val_score\n",
    "from sklearn.model_selection import KFold\n",
    "from sklearn.preprocessing import StandardScaler\n",
    "from sklearn.pipeline import Pipeline\n",
    "from sklearn import preprocessing\n",
    "from keras import optimizers\n",
    "from sklearn.model_selection import train_test_split"
   ]
  },
  {
   "cell_type": "markdown",
   "metadata": {},
   "source": [
    "## Loading the data"
   ]
  },
  {
   "cell_type": "markdown",
   "metadata": {},
   "source": [
    "The data we'll be working with is data related to Facebook posts published during the year of 2014 on the Facebook page of a renowned cosmetics brand.  It includes 7 features known prior to post publication, and 12 features for evaluating the post impact. What we want to do is make a predictor for the number of \"likes\" for a post, taking into account the 7 features prior to posting.\n",
    "\n",
    "First, let's import the data set, `dataset_Facebook.csv`, and delete any rows with missing data. Afterwards, briefly preview the data."
   ]
  },
  {
   "cell_type": "code",
   "execution_count": 68,
   "metadata": {},
   "outputs": [
    {
     "data": {
      "text/html": [
       "<div>\n",
       "<style scoped>\n",
       "    .dataframe tbody tr th:only-of-type {\n",
       "        vertical-align: middle;\n",
       "    }\n",
       "\n",
       "    .dataframe tbody tr th {\n",
       "        vertical-align: top;\n",
       "    }\n",
       "\n",
       "    .dataframe thead th {\n",
       "        text-align: right;\n",
       "    }\n",
       "</style>\n",
       "<table border=\"1\" class=\"dataframe\">\n",
       "  <thead>\n",
       "    <tr style=\"text-align: right;\">\n",
       "      <th></th>\n",
       "      <th>Page total likes</th>\n",
       "      <th>Type</th>\n",
       "      <th>Category</th>\n",
       "      <th>Post Month</th>\n",
       "      <th>Post Weekday</th>\n",
       "      <th>Post Hour</th>\n",
       "      <th>Paid</th>\n",
       "      <th>Lifetime Post Total Reach</th>\n",
       "      <th>Lifetime Post Total Impressions</th>\n",
       "      <th>Lifetime Engaged Users</th>\n",
       "      <th>Lifetime Post Consumers</th>\n",
       "      <th>Lifetime Post Consumptions</th>\n",
       "      <th>Lifetime Post Impressions by people who have liked your Page</th>\n",
       "      <th>Lifetime Post reach by people who like your Page</th>\n",
       "      <th>Lifetime People who have liked your Page and engaged with your post</th>\n",
       "      <th>comment</th>\n",
       "      <th>like</th>\n",
       "      <th>share</th>\n",
       "      <th>Total Interactions</th>\n",
       "    </tr>\n",
       "  </thead>\n",
       "  <tbody>\n",
       "    <tr>\n",
       "      <th>0</th>\n",
       "      <td>139441</td>\n",
       "      <td>Photo</td>\n",
       "      <td>2</td>\n",
       "      <td>12</td>\n",
       "      <td>4</td>\n",
       "      <td>3</td>\n",
       "      <td>0.0</td>\n",
       "      <td>2752</td>\n",
       "      <td>5091</td>\n",
       "      <td>178</td>\n",
       "      <td>109</td>\n",
       "      <td>159</td>\n",
       "      <td>3078</td>\n",
       "      <td>1640</td>\n",
       "      <td>119</td>\n",
       "      <td>4</td>\n",
       "      <td>79.0</td>\n",
       "      <td>17.0</td>\n",
       "      <td>100</td>\n",
       "    </tr>\n",
       "    <tr>\n",
       "      <th>1</th>\n",
       "      <td>139441</td>\n",
       "      <td>Status</td>\n",
       "      <td>2</td>\n",
       "      <td>12</td>\n",
       "      <td>3</td>\n",
       "      <td>10</td>\n",
       "      <td>0.0</td>\n",
       "      <td>10460</td>\n",
       "      <td>19057</td>\n",
       "      <td>1457</td>\n",
       "      <td>1361</td>\n",
       "      <td>1674</td>\n",
       "      <td>11710</td>\n",
       "      <td>6112</td>\n",
       "      <td>1108</td>\n",
       "      <td>5</td>\n",
       "      <td>130.0</td>\n",
       "      <td>29.0</td>\n",
       "      <td>164</td>\n",
       "    </tr>\n",
       "    <tr>\n",
       "      <th>2</th>\n",
       "      <td>139441</td>\n",
       "      <td>Photo</td>\n",
       "      <td>3</td>\n",
       "      <td>12</td>\n",
       "      <td>3</td>\n",
       "      <td>3</td>\n",
       "      <td>0.0</td>\n",
       "      <td>2413</td>\n",
       "      <td>4373</td>\n",
       "      <td>177</td>\n",
       "      <td>113</td>\n",
       "      <td>154</td>\n",
       "      <td>2812</td>\n",
       "      <td>1503</td>\n",
       "      <td>132</td>\n",
       "      <td>0</td>\n",
       "      <td>66.0</td>\n",
       "      <td>14.0</td>\n",
       "      <td>80</td>\n",
       "    </tr>\n",
       "    <tr>\n",
       "      <th>3</th>\n",
       "      <td>139441</td>\n",
       "      <td>Photo</td>\n",
       "      <td>2</td>\n",
       "      <td>12</td>\n",
       "      <td>2</td>\n",
       "      <td>10</td>\n",
       "      <td>1.0</td>\n",
       "      <td>50128</td>\n",
       "      <td>87991</td>\n",
       "      <td>2211</td>\n",
       "      <td>790</td>\n",
       "      <td>1119</td>\n",
       "      <td>61027</td>\n",
       "      <td>32048</td>\n",
       "      <td>1386</td>\n",
       "      <td>58</td>\n",
       "      <td>1572.0</td>\n",
       "      <td>147.0</td>\n",
       "      <td>1777</td>\n",
       "    </tr>\n",
       "    <tr>\n",
       "      <th>4</th>\n",
       "      <td>139441</td>\n",
       "      <td>Photo</td>\n",
       "      <td>2</td>\n",
       "      <td>12</td>\n",
       "      <td>2</td>\n",
       "      <td>3</td>\n",
       "      <td>0.0</td>\n",
       "      <td>7244</td>\n",
       "      <td>13594</td>\n",
       "      <td>671</td>\n",
       "      <td>410</td>\n",
       "      <td>580</td>\n",
       "      <td>6228</td>\n",
       "      <td>3200</td>\n",
       "      <td>396</td>\n",
       "      <td>19</td>\n",
       "      <td>325.0</td>\n",
       "      <td>49.0</td>\n",
       "      <td>393</td>\n",
       "    </tr>\n",
       "  </tbody>\n",
       "</table>\n",
       "</div>"
      ],
      "text/plain": [
       "   Page total likes    Type  Category  Post Month  Post Weekday  Post Hour  \\\n",
       "0            139441   Photo         2          12             4          3   \n",
       "1            139441  Status         2          12             3         10   \n",
       "2            139441   Photo         3          12             3          3   \n",
       "3            139441   Photo         2          12             2         10   \n",
       "4            139441   Photo         2          12             2          3   \n",
       "\n",
       "   Paid  Lifetime Post Total Reach  Lifetime Post Total Impressions  \\\n",
       "0   0.0                       2752                             5091   \n",
       "1   0.0                      10460                            19057   \n",
       "2   0.0                       2413                             4373   \n",
       "3   1.0                      50128                            87991   \n",
       "4   0.0                       7244                            13594   \n",
       "\n",
       "   Lifetime Engaged Users  Lifetime Post Consumers  \\\n",
       "0                     178                      109   \n",
       "1                    1457                     1361   \n",
       "2                     177                      113   \n",
       "3                    2211                      790   \n",
       "4                     671                      410   \n",
       "\n",
       "   Lifetime Post Consumptions  \\\n",
       "0                         159   \n",
       "1                        1674   \n",
       "2                         154   \n",
       "3                        1119   \n",
       "4                         580   \n",
       "\n",
       "   Lifetime Post Impressions by people who have liked your Page  \\\n",
       "0                                               3078              \n",
       "1                                              11710              \n",
       "2                                               2812              \n",
       "3                                              61027              \n",
       "4                                               6228              \n",
       "\n",
       "   Lifetime Post reach by people who like your Page  \\\n",
       "0                                              1640   \n",
       "1                                              6112   \n",
       "2                                              1503   \n",
       "3                                             32048   \n",
       "4                                              3200   \n",
       "\n",
       "   Lifetime People who have liked your Page and engaged with your post  \\\n",
       "0                                                119                     \n",
       "1                                               1108                     \n",
       "2                                                132                     \n",
       "3                                               1386                     \n",
       "4                                                396                     \n",
       "\n",
       "   comment    like  share  Total Interactions  \n",
       "0        4    79.0   17.0                 100  \n",
       "1        5   130.0   29.0                 164  \n",
       "2        0    66.0   14.0                  80  \n",
       "3       58  1572.0  147.0                1777  \n",
       "4       19   325.0   49.0                 393  "
      ]
     },
     "execution_count": 68,
     "metadata": {},
     "output_type": "execute_result"
    }
   ],
   "source": [
    "#Your code here; load the dataset and drop rows with missing values. Then preview the data.\n",
    "df = pd.read_csv('dataset_Facebook.csv', sep=';')\n",
    "df.head()"
   ]
  },
  {
   "cell_type": "code",
   "execution_count": 69,
   "metadata": {},
   "outputs": [
    {
     "data": {
      "text/plain": [
       "Page total likes                                                       0\n",
       "Type                                                                   0\n",
       "Category                                                               0\n",
       "Post Month                                                             0\n",
       "Post Weekday                                                           0\n",
       "Post Hour                                                              0\n",
       "Paid                                                                   1\n",
       "Lifetime Post Total Reach                                              0\n",
       "Lifetime Post Total Impressions                                        0\n",
       "Lifetime Engaged Users                                                 0\n",
       "Lifetime Post Consumers                                                0\n",
       "Lifetime Post Consumptions                                             0\n",
       "Lifetime Post Impressions by people who have liked your Page           0\n",
       "Lifetime Post reach by people who like your Page                       0\n",
       "Lifetime People who have liked your Page and engaged with your post    0\n",
       "comment                                                                0\n",
       "like                                                                   1\n",
       "share                                                                  4\n",
       "Total Interactions                                                     0\n",
       "dtype: int64"
      ]
     },
     "execution_count": 69,
     "metadata": {},
     "output_type": "execute_result"
    }
   ],
   "source": [
    "df.isna().sum()"
   ]
  },
  {
   "cell_type": "code",
   "execution_count": 70,
   "metadata": {},
   "outputs": [],
   "source": [
    "df.dropna(inplace=True)"
   ]
  },
  {
   "cell_type": "code",
   "execution_count": 71,
   "metadata": {},
   "outputs": [
    {
     "data": {
      "text/plain": [
       "Page total likes                                                       0\n",
       "Type                                                                   0\n",
       "Category                                                               0\n",
       "Post Month                                                             0\n",
       "Post Weekday                                                           0\n",
       "Post Hour                                                              0\n",
       "Paid                                                                   0\n",
       "Lifetime Post Total Reach                                              0\n",
       "Lifetime Post Total Impressions                                        0\n",
       "Lifetime Engaged Users                                                 0\n",
       "Lifetime Post Consumers                                                0\n",
       "Lifetime Post Consumptions                                             0\n",
       "Lifetime Post Impressions by people who have liked your Page           0\n",
       "Lifetime Post reach by people who like your Page                       0\n",
       "Lifetime People who have liked your Page and engaged with your post    0\n",
       "comment                                                                0\n",
       "like                                                                   0\n",
       "share                                                                  0\n",
       "Total Interactions                                                     0\n",
       "dtype: int64"
      ]
     },
     "execution_count": 71,
     "metadata": {},
     "output_type": "execute_result"
    }
   ],
   "source": [
    "df.isna().sum()"
   ]
  },
  {
   "cell_type": "markdown",
   "metadata": {},
   "source": [
    "## Defining the Problem\n",
    "\n",
    "Define X and Y and perform a train-validation-test split.\n",
    "\n",
    "X will be:\n",
    "* Page total likes\n",
    "* Post Month\n",
    "* Post Weekday\n",
    "* Post Hour\n",
    "* Paid\n",
    "along with dummy variables for:\n",
    "* Type\n",
    "* Category\n",
    "\n",
    "Y will be the `like` column."
   ]
  },
  {
   "cell_type": "code",
   "execution_count": 72,
   "metadata": {},
   "outputs": [],
   "source": [
    "#Your code here; define the problem.\n",
    "X = df[['Page total likes', 'Post Month', 'Post Weekday', 'Post Hour','Paid','Type','Category']]\n",
    "\n",
    "y = df[['like']]\n"
   ]
  },
  {
   "cell_type": "code",
   "execution_count": 73,
   "metadata": {},
   "outputs": [],
   "source": [
    "# Define dummy variables\n",
    "\n",
    "Type_dummies = pd.get_dummies(X['Type'], prefix='Type_', drop_first=True)\n",
    "Category_dummies = pd.get_dummies(X['Category'], prefix='Cat_', drop_first=True)"
   ]
  },
  {
   "cell_type": "code",
   "execution_count": 74,
   "metadata": {},
   "outputs": [],
   "source": [
    "X = pd.concat([X, Type_dummies, Category_dummies], axis=1)"
   ]
  },
  {
   "cell_type": "code",
   "execution_count": 75,
   "metadata": {},
   "outputs": [],
   "source": [
    "X.drop(['Type','Category'], inplace=True, axis=1)"
   ]
  },
  {
   "cell_type": "code",
   "execution_count": 76,
   "metadata": {},
   "outputs": [],
   "source": [
    "X_train, X_val, Y_train, Y_val = train_test_split(X,y, random_state=123)"
   ]
  },
  {
   "cell_type": "code",
   "execution_count": 77,
   "metadata": {},
   "outputs": [
    {
     "data": {
      "text/plain": [
       "10"
      ]
     },
     "execution_count": 77,
     "metadata": {},
     "output_type": "execute_result"
    }
   ],
   "source": [
    "len(X_train.columns)"
   ]
  },
  {
   "cell_type": "markdown",
   "metadata": {},
   "source": [
    "## Building a Baseline Model\n",
    "\n",
    "Next, build a naive baseline model to compare performance against is a helpful reference point. From there, you can then observe the impact of various tunning procedures which will iteratively improve your model."
   ]
  },
  {
   "cell_type": "code",
   "execution_count": 78,
   "metadata": {},
   "outputs": [],
   "source": [
    "#Simply run this code block, later you'll modify this model to tune the performance\n",
    "np.random.seed(123)\n",
    "model = Sequential()\n",
    "model.add(layers.Dense(8, input_dim=10, activation='relu'))\n",
    "model.add(layers.Dense(1, activation = 'linear'))\n",
    "\n",
    "model.compile(optimizer= \"sgd\" ,loss='mse',metrics=['mse'])\n",
    "hist = model.fit(X_train, Y_train, batch_size=32, \n",
    "                 epochs=100, validation_data = (X_val, Y_val), verbose=0)"
   ]
  },
  {
   "cell_type": "markdown",
   "metadata": {},
   "source": [
    "### Evaluating the Baseline\n",
    "\n",
    "Evaluate the baseline model for the training and validation sets."
   ]
  },
  {
   "cell_type": "code",
   "execution_count": 79,
   "metadata": {},
   "outputs": [
    {
     "name": "stdout",
     "output_type": "stream",
     "text": [
      "124/124 [==============================] - 0s 14us/step\n"
     ]
    },
    {
     "data": {
      "text/plain": [
       "[nan, nan]"
      ]
     },
     "execution_count": 79,
     "metadata": {},
     "output_type": "execute_result"
    }
   ],
   "source": [
    "#Your code here; evaluate the model with MSE\n",
    "model.evaluate(X_val, Y_val)"
   ]
  },
  {
   "cell_type": "code",
   "execution_count": 80,
   "metadata": {},
   "outputs": [
    {
     "name": "stdout",
     "output_type": "stream",
     "text": [
      "{'val_loss': [nan, nan, nan, nan, nan, nan, nan, nan, nan, nan, nan, nan, nan, nan, nan, nan, nan, nan, nan, nan, nan, nan, nan, nan, nan, nan, nan, nan, nan, nan, nan, nan, nan, nan, nan, nan, nan, nan, nan, nan, nan, nan, nan, nan, nan, nan, nan, nan, nan, nan, nan, nan, nan, nan, nan, nan, nan, nan, nan, nan, nan, nan, nan, nan, nan, nan, nan, nan, nan, nan, nan, nan, nan, nan, nan, nan, nan, nan, nan, nan, nan, nan, nan, nan, nan, nan, nan, nan, nan, nan, nan, nan, nan, nan, nan, nan, nan, nan, nan, nan], 'val_mse': [nan, nan, nan, nan, nan, nan, nan, nan, nan, nan, nan, nan, nan, nan, nan, nan, nan, nan, nan, nan, nan, nan, nan, nan, nan, nan, nan, nan, nan, nan, nan, nan, nan, nan, nan, nan, nan, nan, nan, nan, nan, nan, nan, nan, nan, nan, nan, nan, nan, nan, nan, nan, nan, nan, nan, nan, nan, nan, nan, nan, nan, nan, nan, nan, nan, nan, nan, nan, nan, nan, nan, nan, nan, nan, nan, nan, nan, nan, nan, nan, nan, nan, nan, nan, nan, nan, nan, nan, nan, nan, nan, nan, nan, nan, nan, nan, nan, nan, nan, nan], 'loss': [nan, nan, nan, nan, nan, nan, nan, nan, nan, nan, nan, nan, nan, nan, nan, nan, nan, nan, nan, nan, nan, nan, nan, nan, nan, nan, nan, nan, nan, nan, nan, nan, nan, nan, nan, nan, nan, nan, nan, nan, nan, nan, nan, nan, nan, nan, nan, nan, nan, nan, nan, nan, nan, nan, nan, nan, nan, nan, nan, nan, nan, nan, nan, nan, nan, nan, nan, nan, nan, nan, nan, nan, nan, nan, nan, nan, nan, nan, nan, nan, nan, nan, nan, nan, nan, nan, nan, nan, nan, nan, nan, nan, nan, nan, nan, nan, nan, nan, nan, nan], 'mse': [nan, nan, nan, nan, nan, nan, nan, nan, nan, nan, nan, nan, nan, nan, nan, nan, nan, nan, nan, nan, nan, nan, nan, nan, nan, nan, nan, nan, nan, nan, nan, nan, nan, nan, nan, nan, nan, nan, nan, nan, nan, nan, nan, nan, nan, nan, nan, nan, nan, nan, nan, nan, nan, nan, nan, nan, nan, nan, nan, nan, nan, nan, nan, nan, nan, nan, nan, nan, nan, nan, nan, nan, nan, nan, nan, nan, nan, nan, nan, nan, nan, nan, nan, nan, nan, nan, nan, nan, nan, nan, nan, nan, nan, nan, nan, nan, nan, nan, nan, nan]}\n"
     ]
    }
   ],
   "source": [
    "#Your code here; inspect the loss function through the history object\n",
    "print(model.history.history)"
   ]
  },
  {
   "cell_type": "markdown",
   "metadata": {},
   "source": [
    "> Notice this extremely problematic behavior: all the values for training and validation loss are \"nan\". This indicates that the algorithm did not converge. The first solution to this is to normalize the input. From there, if convergence is not achieved, normalizing the output may also be required."
   ]
  },
  {
   "cell_type": "markdown",
   "metadata": {},
   "source": [
    "## Normalize the Input Data"
   ]
  },
  {
   "cell_type": "markdown",
   "metadata": {},
   "source": [
    "Normalize the input features by subtracting each feature mean and dividing by the standard deviation in order to transform each into a standard normal distribution. Then recreate the train-validate-test sets with the transformed input data."
   ]
  },
  {
   "cell_type": "code",
   "execution_count": 86,
   "metadata": {},
   "outputs": [
    {
     "data": {
      "text/plain": [
       "495"
      ]
     },
     "execution_count": 86,
     "metadata": {},
     "output_type": "execute_result"
    }
   ],
   "source": [
    "## standardize/categorize\n",
    "\n",
    "#Your code here; define the problem.\n",
    "X_to_scale = df[['Page total likes', 'Post Month', 'Post Weekday', 'Post Hour','Paid']]\n",
    "\n"
   ]
  },
  {
   "cell_type": "code",
   "execution_count": 82,
   "metadata": {},
   "outputs": [],
   "source": [
    "scaler = StandardScaler()"
   ]
  },
  {
   "cell_type": "code",
   "execution_count": 83,
   "metadata": {},
   "outputs": [],
   "source": [
    "X_scaled = scaler.fit_transform(X_to_scale)\n",
    "X_scaled = pd.DataFrame(X_scaled, columns=X_to_scale.columns)"
   ]
  },
  {
   "cell_type": "code",
   "execution_count": 101,
   "metadata": {},
   "outputs": [],
   "source": [
    "X_scaled.reset_index(inplace=True)\n",
    "Type_dummies.reset_index(inplace=True)\n",
    "Category_dummies.reset_index(inplace=True)"
   ]
  },
  {
   "cell_type": "code",
   "execution_count": 106,
   "metadata": {},
   "outputs": [],
   "source": [
    "X_norm = pd.concat([X_scaled,Type_dummies, Category_dummies],axis=1)\n",
    "X_norm.drop(['index','index','index'],axis=1, inplace=True)"
   ]
  },
  {
   "cell_type": "code",
   "execution_count": 107,
   "metadata": {},
   "outputs": [],
   "source": [
    "X_train, X_val, Y_train, Y_val = train_test_split(X_norm,y, random_state=123)"
   ]
  },
  {
   "cell_type": "code",
   "execution_count": 108,
   "metadata": {},
   "outputs": [
    {
     "data": {
      "text/html": [
       "<div>\n",
       "<style scoped>\n",
       "    .dataframe tbody tr th:only-of-type {\n",
       "        vertical-align: middle;\n",
       "    }\n",
       "\n",
       "    .dataframe tbody tr th {\n",
       "        vertical-align: top;\n",
       "    }\n",
       "\n",
       "    .dataframe thead th {\n",
       "        text-align: right;\n",
       "    }\n",
       "</style>\n",
       "<table border=\"1\" class=\"dataframe\">\n",
       "  <thead>\n",
       "    <tr style=\"text-align: right;\">\n",
       "      <th></th>\n",
       "      <th>Page total likes</th>\n",
       "      <th>Post Month</th>\n",
       "      <th>Post Weekday</th>\n",
       "      <th>Post Hour</th>\n",
       "      <th>Paid</th>\n",
       "      <th>Type__Photo</th>\n",
       "      <th>Type__Status</th>\n",
       "      <th>Type__Video</th>\n",
       "      <th>Cat__2</th>\n",
       "      <th>Cat__3</th>\n",
       "    </tr>\n",
       "  </thead>\n",
       "  <tbody>\n",
       "    <tr>\n",
       "      <th>148</th>\n",
       "      <td>0.774658</td>\n",
       "      <td>0.900265</td>\n",
       "      <td>0.427207</td>\n",
       "      <td>0.720342</td>\n",
       "      <td>-0.62486</td>\n",
       "      <td>1</td>\n",
       "      <td>0</td>\n",
       "      <td>0</td>\n",
       "      <td>1</td>\n",
       "      <td>0</td>\n",
       "    </tr>\n",
       "    <tr>\n",
       "      <th>454</th>\n",
       "      <td>-1.881228</td>\n",
       "      <td>-1.523291</td>\n",
       "      <td>-1.051585</td>\n",
       "      <td>1.176897</td>\n",
       "      <td>-0.62486</td>\n",
       "      <td>1</td>\n",
       "      <td>0</td>\n",
       "      <td>0</td>\n",
       "      <td>0</td>\n",
       "      <td>1</td>\n",
       "    </tr>\n",
       "    <tr>\n",
       "      <th>467</th>\n",
       "      <td>-1.967159</td>\n",
       "      <td>-1.523291</td>\n",
       "      <td>-0.558655</td>\n",
       "      <td>-1.105878</td>\n",
       "      <td>-0.62486</td>\n",
       "      <td>1</td>\n",
       "      <td>0</td>\n",
       "      <td>0</td>\n",
       "      <td>0</td>\n",
       "      <td>1</td>\n",
       "    </tr>\n",
       "    <tr>\n",
       "      <th>422</th>\n",
       "      <td>-1.386338</td>\n",
       "      <td>-1.220346</td>\n",
       "      <td>1.413068</td>\n",
       "      <td>2.318285</td>\n",
       "      <td>-0.62486</td>\n",
       "      <td>1</td>\n",
       "      <td>0</td>\n",
       "      <td>0</td>\n",
       "      <td>0</td>\n",
       "      <td>0</td>\n",
       "    </tr>\n",
       "    <tr>\n",
       "      <th>31</th>\n",
       "      <td>0.971230</td>\n",
       "      <td>1.506154</td>\n",
       "      <td>-0.558655</td>\n",
       "      <td>0.492065</td>\n",
       "      <td>-0.62486</td>\n",
       "      <td>1</td>\n",
       "      <td>0</td>\n",
       "      <td>0</td>\n",
       "      <td>1</td>\n",
       "      <td>0</td>\n",
       "    </tr>\n",
       "  </tbody>\n",
       "</table>\n",
       "</div>"
      ],
      "text/plain": [
       "     Page total likes  Post Month  Post Weekday  Post Hour     Paid  \\\n",
       "148          0.774658    0.900265      0.427207   0.720342 -0.62486   \n",
       "454         -1.881228   -1.523291     -1.051585   1.176897 -0.62486   \n",
       "467         -1.967159   -1.523291     -0.558655  -1.105878 -0.62486   \n",
       "422         -1.386338   -1.220346      1.413068   2.318285 -0.62486   \n",
       "31           0.971230    1.506154     -0.558655   0.492065 -0.62486   \n",
       "\n",
       "     Type__Photo  Type__Status  Type__Video  Cat__2  Cat__3  \n",
       "148            1             0            0       1       0  \n",
       "454            1             0            0       0       1  \n",
       "467            1             0            0       0       1  \n",
       "422            1             0            0       0       0  \n",
       "31             1             0            0       1       0  "
      ]
     },
     "execution_count": 108,
     "metadata": {},
     "output_type": "execute_result"
    }
   ],
   "source": [
    "X_train.head()"
   ]
  },
  {
   "cell_type": "markdown",
   "metadata": {},
   "source": [
    "## Refit the Model and Reevaluate\n",
    "\n",
    "Great! Now refit the model and once again assess it's performance on the training and validation sets."
   ]
  },
  {
   "cell_type": "code",
   "execution_count": 109,
   "metadata": {},
   "outputs": [],
   "source": [
    "#Your code here; refit a model as shown above\n",
    "np.random.seed(123)\n",
    "model = Sequential()\n",
    "model.add(layers.Dense(8, input_dim=10, activation='relu'))\n",
    "model.add(layers.Dense(1, activation = 'linear'))\n",
    "\n",
    "model.compile(optimizer= \"sgd\" ,loss='mse',metrics=['mse'])\n",
    "hist = model.fit(X_train, Y_train, batch_size=32, \n",
    "                 epochs=100, validation_data = (X_val, Y_val), verbose=0)"
   ]
  },
  {
   "cell_type": "code",
   "execution_count": 110,
   "metadata": {},
   "outputs": [
    {
     "name": "stdout",
     "output_type": "stream",
     "text": [
      "124/124 [==============================] - 0s 20us/step\n"
     ]
    },
    {
     "data": {
      "text/plain": [
       "[nan, nan]"
      ]
     },
     "execution_count": 110,
     "metadata": {},
     "output_type": "execute_result"
    }
   ],
   "source": [
    "#Rexamine the loss function\n",
    "model.evaluate(X_val, Y_val)"
   ]
  },
  {
   "cell_type": "markdown",
   "metadata": {},
   "source": [
    "> Note that you still haven't achieved convergence! From here, it's time to normalize the output data."
   ]
  },
  {
   "cell_type": "markdown",
   "metadata": {},
   "source": [
    "## Normalizing the output\n",
    "\n",
    "Normalize Y as you did X by subtracting the mean and dividing by the standard deviation. Then, resplit the data into training and validation sets as we demonstrated above, and retrain a new model using your normalized X and Y data."
   ]
  },
  {
   "cell_type": "code",
   "execution_count": 112,
   "metadata": {},
   "outputs": [],
   "source": [
    "#Your code here: redefine Y after normalizing the data.\n",
    "y = scaler.fit_transform(y)"
   ]
  },
  {
   "cell_type": "code",
   "execution_count": 113,
   "metadata": {},
   "outputs": [],
   "source": [
    "#Your code here; create training and validation sets as before. Use random seed 123.\n",
    "X_train, X_val, Y_train, Y_val = train_test_split(X_norm,y, random_state=123)"
   ]
  },
  {
   "cell_type": "code",
   "execution_count": 114,
   "metadata": {},
   "outputs": [],
   "source": [
    "#Your code here; rebuild a simple model using a relu layer followed by a linear layer. (See our code snippet above!)\n",
    "np.random.seed(123)\n",
    "model = Sequential()\n",
    "model.add(layers.Dense(8, input_dim=10, activation='relu'))\n",
    "model.add(layers.Dense(1, activation = 'linear'))\n",
    "\n",
    "model.compile(optimizer= \"sgd\" ,loss='mse',metrics=['mse'])\n",
    "hist = model.fit(X_train, Y_train, batch_size=32, \n",
    "                 epochs=100, validation_data = (X_val, Y_val), verbose=0)"
   ]
  },
  {
   "cell_type": "markdown",
   "metadata": {},
   "source": [
    "Again, reevaluate the updated model."
   ]
  },
  {
   "cell_type": "code",
   "execution_count": 115,
   "metadata": {},
   "outputs": [
    {
     "name": "stdout",
     "output_type": "stream",
     "text": [
      "124/124 [==============================] - 0s 17us/step\n"
     ]
    },
    {
     "data": {
      "text/plain": [
       "[0.8092441265621493, 0.8092441558837891]"
      ]
     },
     "execution_count": 115,
     "metadata": {},
     "output_type": "execute_result"
    }
   ],
   "source": [
    "#Your code here; MSE\n",
    "model.evaluate(X_val, Y_val)"
   ]
  },
  {
   "cell_type": "code",
   "execution_count": 116,
   "metadata": {},
   "outputs": [
    {
     "data": {
      "text/plain": [
       "{'val_loss': [1.072243304983262,\n",
       "  0.9880959910731162,\n",
       "  0.937640167051746,\n",
       "  0.9068550491525281,\n",
       "  0.884835148049939,\n",
       "  0.8688690571054336,\n",
       "  0.8569619131665076,\n",
       "  0.8474722288308605,\n",
       "  0.8404915808669983,\n",
       "  0.8351031820620259,\n",
       "  0.8307577919575476,\n",
       "  0.827183207196574,\n",
       "  0.8246236731929164,\n",
       "  0.8225529717822229,\n",
       "  0.8201591213864665,\n",
       "  0.8184252386131594,\n",
       "  0.8172099085584763,\n",
       "  0.8157566478175502,\n",
       "  0.8145006457644124,\n",
       "  0.8134670882455765,\n",
       "  0.8128812587068927,\n",
       "  0.8121800946612512,\n",
       "  0.8134782847858244,\n",
       "  0.8125353282497775,\n",
       "  0.8144711900141931,\n",
       "  0.8158704249128219,\n",
       "  0.8145379241435758,\n",
       "  0.8135495964557894,\n",
       "  0.8125210082338702,\n",
       "  0.811767648785345,\n",
       "  0.8107859920109471,\n",
       "  0.8102614826733067,\n",
       "  0.80978300782942,\n",
       "  0.8096006911608481,\n",
       "  0.8107367383856927,\n",
       "  0.8105795657442462,\n",
       "  0.810079006418105,\n",
       "  0.8097234252960451,\n",
       "  0.8094322450699345,\n",
       "  0.8091095416776596,\n",
       "  0.8084171750853139,\n",
       "  0.8085713737433956,\n",
       "  0.8099787076634746,\n",
       "  0.809416568567676,\n",
       "  0.8095310931244204,\n",
       "  0.8094997305062509,\n",
       "  0.809057344832728,\n",
       "  0.8094562066178168,\n",
       "  0.8096780911568673,\n",
       "  0.8094677631893465,\n",
       "  0.8088147827694493,\n",
       "  0.8086480214711158,\n",
       "  0.8084874643433478,\n",
       "  0.808099641434608,\n",
       "  0.8077935028460718,\n",
       "  0.8081006114521334,\n",
       "  0.8083347038876626,\n",
       "  0.8078374050317272,\n",
       "  0.8079347730644287,\n",
       "  0.8082563367582136,\n",
       "  0.8079449164290582,\n",
       "  0.8077352772797307,\n",
       "  0.8080709740038841,\n",
       "  0.8069013285060083,\n",
       "  0.807279662739846,\n",
       "  0.8076137030316938,\n",
       "  0.8075566652321047,\n",
       "  0.8072310767827495,\n",
       "  0.8075672969702752,\n",
       "  0.8073292523622513,\n",
       "  0.8075339818193067,\n",
       "  0.8070048598512527,\n",
       "  0.8070526401842794,\n",
       "  0.80729734801477,\n",
       "  0.8076233061090592,\n",
       "  0.807571513998893,\n",
       "  0.8076986079254458,\n",
       "  0.8082616672881188,\n",
       "  0.8080166924384332,\n",
       "  0.8077482879161835,\n",
       "  0.8076727601789659,\n",
       "  0.8084614377829337,\n",
       "  0.808443883253682,\n",
       "  0.8081812305796531,\n",
       "  0.8085136346278652,\n",
       "  0.8082097696681176,\n",
       "  0.8089413003575417,\n",
       "  0.8079095093473312,\n",
       "  0.8082681591472318,\n",
       "  0.8088235338368723,\n",
       "  0.8083243052805623,\n",
       "  0.8086183633535139,\n",
       "  0.808688820369782,\n",
       "  0.808656927078001,\n",
       "  0.8089560477002975,\n",
       "  0.8095849132345568,\n",
       "  0.8097680187033068,\n",
       "  0.8099713748501193,\n",
       "  0.8100879620159825,\n",
       "  0.8092441265621493],\n",
       " 'val_mse': [1.072243332862854,\n",
       "  0.9880960583686829,\n",
       "  0.9376401305198669,\n",
       "  0.906855046749115,\n",
       "  0.8848351240158081,\n",
       "  0.8688690662384033,\n",
       "  0.8569619059562683,\n",
       "  0.8474722504615784,\n",
       "  0.8404915928840637,\n",
       "  0.8351032137870789,\n",
       "  0.8307577967643738,\n",
       "  0.827183187007904,\n",
       "  0.8246236443519592,\n",
       "  0.8225530385971069,\n",
       "  0.8201591372489929,\n",
       "  0.8184252977371216,\n",
       "  0.8172098398208618,\n",
       "  0.815756618976593,\n",
       "  0.814500629901886,\n",
       "  0.8134670853614807,\n",
       "  0.8128812313079834,\n",
       "  0.8121801018714905,\n",
       "  0.8134782910346985,\n",
       "  0.8125354051589966,\n",
       "  0.8144711852073669,\n",
       "  0.8158704042434692,\n",
       "  0.8145378828048706,\n",
       "  0.8135496377944946,\n",
       "  0.8125210404396057,\n",
       "  0.8117676973342896,\n",
       "  0.8107859492301941,\n",
       "  0.8102614879608154,\n",
       "  0.8097830414772034,\n",
       "  0.8096007108688354,\n",
       "  0.8107367753982544,\n",
       "  0.8105795383453369,\n",
       "  0.8100789785385132,\n",
       "  0.8097233772277832,\n",
       "  0.8094322681427002,\n",
       "  0.8091095089912415,\n",
       "  0.8084171414375305,\n",
       "  0.8085713386535645,\n",
       "  0.809978723526001,\n",
       "  0.8094165921211243,\n",
       "  0.8095310926437378,\n",
       "  0.8094997406005859,\n",
       "  0.809057354927063,\n",
       "  0.8094562292098999,\n",
       "  0.8096781373023987,\n",
       "  0.8094677329063416,\n",
       "  0.8088147640228271,\n",
       "  0.8086479902267456,\n",
       "  0.8084874153137207,\n",
       "  0.8080996870994568,\n",
       "  0.8077934384346008,\n",
       "  0.8081005811691284,\n",
       "  0.8083346486091614,\n",
       "  0.8078373670578003,\n",
       "  0.8079348206520081,\n",
       "  0.8082563281059265,\n",
       "  0.8079448938369751,\n",
       "  0.8077352643013,\n",
       "  0.8080710172653198,\n",
       "  0.8069013357162476,\n",
       "  0.807279646396637,\n",
       "  0.807613730430603,\n",
       "  0.8075566291809082,\n",
       "  0.807231068611145,\n",
       "  0.807567298412323,\n",
       "  0.8073292374610901,\n",
       "  0.8075339198112488,\n",
       "  0.8070048093795776,\n",
       "  0.8070526719093323,\n",
       "  0.8072972893714905,\n",
       "  0.8076233267784119,\n",
       "  0.8075714707374573,\n",
       "  0.807698667049408,\n",
       "  0.8082616329193115,\n",
       "  0.8080166578292847,\n",
       "  0.8077483177185059,\n",
       "  0.8076727390289307,\n",
       "  0.8084614872932434,\n",
       "  0.8084438443183899,\n",
       "  0.8081812262535095,\n",
       "  0.8085136413574219,\n",
       "  0.8082097768783569,\n",
       "  0.8089413046836853,\n",
       "  0.8079095482826233,\n",
       "  0.808268129825592,\n",
       "  0.8088235259056091,\n",
       "  0.8083242774009705,\n",
       "  0.8086183667182922,\n",
       "  0.8086888194084167,\n",
       "  0.8086568713188171,\n",
       "  0.8089560270309448,\n",
       "  0.80958491563797,\n",
       "  0.80976802110672,\n",
       "  0.8099713325500488,\n",
       "  0.8100879788398743,\n",
       "  0.8092441558837891],\n",
       " 'loss': [1.4288150756506908,\n",
       "  1.294792025638719,\n",
       "  1.2283386711001074,\n",
       "  1.1887252893489648,\n",
       "  1.1612215469468314,\n",
       "  1.1391112315204908,\n",
       "  1.121804200132902,\n",
       "  1.1078888691981847,\n",
       "  1.0955459722932779,\n",
       "  1.082878594610569,\n",
       "  1.0743522753291375,\n",
       "  1.0678314748960684,\n",
       "  1.0634737695966447,\n",
       "  1.059625941506936,\n",
       "  1.0562093770407601,\n",
       "  1.0534074589248617,\n",
       "  1.0494854730576517,\n",
       "  1.047186118412532,\n",
       "  1.0442573956321834,\n",
       "  1.0429827900267032,\n",
       "  1.0392682071162684,\n",
       "  1.038130439235515,\n",
       "  1.0366691861833846,\n",
       "  1.036598009802903,\n",
       "  1.035069562032859,\n",
       "  1.0335463449318776,\n",
       "  1.0335817010094213,\n",
       "  1.030292521268531,\n",
       "  1.0289279952685466,\n",
       "  1.028557038291124,\n",
       "  1.026815886606746,\n",
       "  1.0258561220130509,\n",
       "  1.0250054552468328,\n",
       "  1.0240705470752844,\n",
       "  1.0230239202391427,\n",
       "  1.0229619426547356,\n",
       "  1.0205719850134014,\n",
       "  1.0207070494597812,\n",
       "  1.0195938493363619,\n",
       "  1.0195707661122324,\n",
       "  1.0175034008578792,\n",
       "  1.0185940072864215,\n",
       "  1.0171972529264794,\n",
       "  1.017180852812898,\n",
       "  1.0164528281862202,\n",
       "  1.015723670910632,\n",
       "  1.0147435247014476,\n",
       "  1.014976200067772,\n",
       "  1.0144051636325702,\n",
       "  1.0130089166350764,\n",
       "  1.0140617844872075,\n",
       "  1.0130316862520181,\n",
       "  1.01225576190293,\n",
       "  1.0118569173420857,\n",
       "  1.0111108954463686,\n",
       "  1.011425539489705,\n",
       "  1.0097702786607563,\n",
       "  1.0108490218370751,\n",
       "  1.0097967829665726,\n",
       "  1.008706854460535,\n",
       "  1.0097159711980435,\n",
       "  1.0071475883378493,\n",
       "  1.0072826735092943,\n",
       "  1.0085711710536576,\n",
       "  1.0060647897964539,\n",
       "  1.0059765831559817,\n",
       "  1.0057829865066188,\n",
       "  1.0064046061585212,\n",
       "  1.005121471586253,\n",
       "  1.0048791003034443,\n",
       "  1.0061227388459075,\n",
       "  1.0036923046703288,\n",
       "  1.002514418887321,\n",
       "  1.0032779920414452,\n",
       "  1.0049716997339397,\n",
       "  1.0018097838622861,\n",
       "  1.0019291603179634,\n",
       "  1.000644594029275,\n",
       "  1.0010970699176633,\n",
       "  0.9999168039653501,\n",
       "  1.0009319356509618,\n",
       "  1.000698190493725,\n",
       "  1.0012203345722908,\n",
       "  0.9988439563471031,\n",
       "  0.9979049813634945,\n",
       "  0.9978970706944839,\n",
       "  0.9978963207764767,\n",
       "  0.997841587606466,\n",
       "  0.9970045882575916,\n",
       "  0.9954190541390139,\n",
       "  0.9959740796179142,\n",
       "  0.9962606378642697,\n",
       "  0.9952201979822226,\n",
       "  0.9944173610114023,\n",
       "  0.9948182323309932,\n",
       "  0.9961368607462577,\n",
       "  0.9930056365673754,\n",
       "  0.9929452302320948,\n",
       "  0.9932535343334039,\n",
       "  0.991056735303524],\n",
       " 'mse': [1.4288151,\n",
       "  1.2947919,\n",
       "  1.2283386,\n",
       "  1.1887254,\n",
       "  1.1612214,\n",
       "  1.1391112,\n",
       "  1.1218042,\n",
       "  1.1078888,\n",
       "  1.0955459,\n",
       "  1.0828787,\n",
       "  1.0743524,\n",
       "  1.0678316,\n",
       "  1.0634738,\n",
       "  1.0596259,\n",
       "  1.0562094,\n",
       "  1.0534074,\n",
       "  1.0494854,\n",
       "  1.0471861,\n",
       "  1.0442574,\n",
       "  1.0429829,\n",
       "  1.0392681,\n",
       "  1.0381304,\n",
       "  1.0366691,\n",
       "  1.0365981,\n",
       "  1.0350696,\n",
       "  1.0335463,\n",
       "  1.0335817,\n",
       "  1.0302925,\n",
       "  1.028928,\n",
       "  1.028557,\n",
       "  1.026816,\n",
       "  1.0258561,\n",
       "  1.0250055,\n",
       "  1.0240705,\n",
       "  1.023024,\n",
       "  1.0229621,\n",
       "  1.020572,\n",
       "  1.020707,\n",
       "  1.019594,\n",
       "  1.0195707,\n",
       "  1.0175034,\n",
       "  1.018594,\n",
       "  1.0171973,\n",
       "  1.0171808,\n",
       "  1.0164528,\n",
       "  1.0157237,\n",
       "  1.0147436,\n",
       "  1.0149763,\n",
       "  1.0144051,\n",
       "  1.0130088,\n",
       "  1.0140618,\n",
       "  1.0130317,\n",
       "  1.0122557,\n",
       "  1.0118569,\n",
       "  1.0111109,\n",
       "  1.0114255,\n",
       "  1.0097703,\n",
       "  1.010849,\n",
       "  1.0097969,\n",
       "  1.0087069,\n",
       "  1.0097159,\n",
       "  1.0071476,\n",
       "  1.0072827,\n",
       "  1.0085711,\n",
       "  1.0060648,\n",
       "  1.0059767,\n",
       "  1.0057831,\n",
       "  1.0064045,\n",
       "  1.0051215,\n",
       "  1.004879,\n",
       "  1.0061227,\n",
       "  1.0036924,\n",
       "  1.0025144,\n",
       "  1.003278,\n",
       "  1.0049719,\n",
       "  1.00181,\n",
       "  1.0019292,\n",
       "  1.0006447,\n",
       "  1.0010972,\n",
       "  0.99991685,\n",
       "  1.0009319,\n",
       "  1.0006982,\n",
       "  1.0012203,\n",
       "  0.998844,\n",
       "  0.99790496,\n",
       "  0.9978971,\n",
       "  0.9978962,\n",
       "  0.99784166,\n",
       "  0.9970047,\n",
       "  0.9954189,\n",
       "  0.99597406,\n",
       "  0.9962606,\n",
       "  0.99522007,\n",
       "  0.9944174,\n",
       "  0.99481803,\n",
       "  0.99613684,\n",
       "  0.99300563,\n",
       "  0.99294525,\n",
       "  0.9932535,\n",
       "  0.9910566]}"
      ]
     },
     "execution_count": 116,
     "metadata": {},
     "output_type": "execute_result"
    }
   ],
   "source": [
    "#Your code here; loss function\n",
    "model.history.history"
   ]
  },
  {
   "cell_type": "markdown",
   "metadata": {},
   "source": [
    "Great! Now that you have a converged model, you can also experiment with alternative optimizers and initialization strategies to see if you can find a better global minimum. (After all, the current models may have converged to a local minimum.)"
   ]
  },
  {
   "cell_type": "markdown",
   "metadata": {},
   "source": [
    "## Using Weight Initializers\n",
    "\n",
    "Below, take a look at the code provided to see how to modify the neural network to use alternative initialization and optimization strategies. At the end, you'll then be asked to select the model which you believe is the strongest."
   ]
  },
  {
   "cell_type": "markdown",
   "metadata": {},
   "source": [
    "##  He Initialization"
   ]
  },
  {
   "cell_type": "code",
   "execution_count": 117,
   "metadata": {},
   "outputs": [],
   "source": [
    "np.random.seed(123)\n",
    "model = Sequential()\n",
    "model.add(layers.Dense(8, input_dim=10, kernel_initializer= \"he_normal\",\n",
    "                activation='relu'))\n",
    "model.add(layers.Dense(1, activation = 'linear'))\n",
    "\n",
    "model.compile(optimizer= \"sgd\" ,loss='mse',metrics=['mse'])\n",
    "hist = model.fit(X_train, Y_train, batch_size=32, \n",
    "                 epochs=100, validation_data = (X_val, Y_val),verbose=0)"
   ]
  },
  {
   "cell_type": "code",
   "execution_count": 118,
   "metadata": {},
   "outputs": [],
   "source": [
    "pred_train = model.predict(X_train).reshape(-1)\n",
    "pred_val = model.predict(X_val).reshape(-1)\n",
    "\n",
    "MSE_train = np.mean((pred_train-Y_train)**2)\n",
    "MSE_val = np.mean((pred_val-Y_val)**2)"
   ]
  },
  {
   "cell_type": "code",
   "execution_count": 119,
   "metadata": {},
   "outputs": [
    {
     "name": "stdout",
     "output_type": "stream",
     "text": [
      "1.1509542496659626\n",
      "0.837949659950908\n"
     ]
    }
   ],
   "source": [
    "print(MSE_train)\n",
    "print(MSE_val)"
   ]
  },
  {
   "cell_type": "markdown",
   "metadata": {},
   "source": [
    "## Lecun Initialization"
   ]
  },
  {
   "cell_type": "code",
   "execution_count": 120,
   "metadata": {},
   "outputs": [],
   "source": [
    "np.random.seed(123)\n",
    "model = Sequential()\n",
    "model.add(layers.Dense(8, input_dim=10, \n",
    "                kernel_initializer= \"lecun_normal\", activation='tanh'))\n",
    "model.add(layers.Dense(1, activation = 'linear'))\n",
    "\n",
    "model.compile(optimizer= \"sgd\" ,loss='mse',metrics=['mse'])\n",
    "hist = model.fit(X_train, Y_train, batch_size=32, \n",
    "                 epochs=100, validation_data = (X_val, Y_val), verbose=0)"
   ]
  },
  {
   "cell_type": "code",
   "execution_count": 121,
   "metadata": {},
   "outputs": [],
   "source": [
    "pred_train = model.predict(X_train).reshape(-1)\n",
    "pred_val = model.predict(X_val).reshape(-1)\n",
    "\n",
    "MSE_train = np.mean((pred_train-Y_train)**2)\n",
    "MSE_val = np.mean((pred_val-Y_val)**2)"
   ]
  },
  {
   "cell_type": "code",
   "execution_count": 122,
   "metadata": {},
   "outputs": [
    {
     "name": "stdout",
     "output_type": "stream",
     "text": [
      "1.142327939812121\n",
      "0.8345677505829496\n"
     ]
    }
   ],
   "source": [
    "print(MSE_train)\n",
    "print(MSE_val)"
   ]
  },
  {
   "cell_type": "markdown",
   "metadata": {},
   "source": [
    "Not much of a difference, but a useful note to consider when tuning your network. Next, let's investigate the impact of various optimization algorithms."
   ]
  },
  {
   "cell_type": "markdown",
   "metadata": {},
   "source": [
    "## RMSprop"
   ]
  },
  {
   "cell_type": "code",
   "execution_count": 123,
   "metadata": {},
   "outputs": [],
   "source": [
    "np.random.seed(123)\n",
    "model = Sequential()\n",
    "model.add(layers.Dense(8, input_dim=10, activation='relu'))\n",
    "model.add(layers.Dense(1, activation = 'linear'))\n",
    "\n",
    "model.compile(optimizer= \"rmsprop\" ,loss='mse',metrics=['mse'])\n",
    "hist = model.fit(X_train, Y_train, batch_size=32, \n",
    "                 epochs=100, validation_data = (X_val, Y_val), verbose = 0)"
   ]
  },
  {
   "cell_type": "code",
   "execution_count": 124,
   "metadata": {},
   "outputs": [],
   "source": [
    "pred_train = model.predict(X_train).reshape(-1)\n",
    "pred_val = model.predict(X_val).reshape(-1)\n",
    "\n",
    "MSE_train = np.mean((pred_train-Y_train)**2)\n",
    "MSE_val = np.mean((pred_val-Y_val)**2)"
   ]
  },
  {
   "cell_type": "code",
   "execution_count": 125,
   "metadata": {},
   "outputs": [
    {
     "name": "stdout",
     "output_type": "stream",
     "text": [
      "1.13785499321751\n",
      "0.8388479715955445\n"
     ]
    }
   ],
   "source": [
    "print(MSE_train)\n",
    "print(MSE_val)"
   ]
  },
  {
   "cell_type": "markdown",
   "metadata": {},
   "source": [
    "## Adam"
   ]
  },
  {
   "cell_type": "code",
   "execution_count": 126,
   "metadata": {},
   "outputs": [],
   "source": [
    "np.random.seed(123)\n",
    "model = Sequential()\n",
    "model.add(layers.Dense(8, input_dim=10, activation='relu'))\n",
    "model.add(layers.Dense(1, activation = 'linear'))\n",
    "\n",
    "model.compile(optimizer= \"Adam\" ,loss='mse',metrics=['mse'])\n",
    "hist = model.fit(X_train, Y_train, batch_size=32, \n",
    "                 epochs=100, validation_data = (X_val, Y_val), verbose = 0)"
   ]
  },
  {
   "cell_type": "code",
   "execution_count": 127,
   "metadata": {},
   "outputs": [],
   "source": [
    "pred_train = model.predict(X_train).reshape(-1)\n",
    "pred_val = model.predict(X_val).reshape(-1)\n",
    "\n",
    "MSE_train = np.mean((pred_train-Y_train)**2)\n",
    "MSE_val = np.mean((pred_val-Y_val)**2)"
   ]
  },
  {
   "cell_type": "code",
   "execution_count": 128,
   "metadata": {},
   "outputs": [
    {
     "name": "stdout",
     "output_type": "stream",
     "text": [
      "1.1443077180720171\n",
      "0.8427957579410955\n"
     ]
    }
   ],
   "source": [
    "print(MSE_train)\n",
    "print(MSE_val)"
   ]
  },
  {
   "cell_type": "markdown",
   "metadata": {},
   "source": [
    "## Learning Rate Decay with Momentum\n"
   ]
  },
  {
   "cell_type": "code",
   "execution_count": 129,
   "metadata": {},
   "outputs": [],
   "source": [
    "np.random.seed(123)\n",
    "sgd = optimizers.SGD(lr=0.03, decay=0.0001, momentum=0.9)\n",
    "model = Sequential()\n",
    "model.add(layers.Dense(8, input_dim=10, activation='relu'))\n",
    "model.add(layers.Dense(1, activation = 'linear'))\n",
    "\n",
    "model.compile(optimizer= sgd ,loss='mse',metrics=['mse'])\n",
    "hist = model.fit(X_train, Y_train, batch_size=32, \n",
    "                 epochs=100, validation_data = (X_val, Y_val), verbose = 0)"
   ]
  },
  {
   "cell_type": "code",
   "execution_count": 130,
   "metadata": {},
   "outputs": [],
   "source": [
    "pred_train = model.predict(X_train).reshape(-1)\n",
    "pred_val = model.predict(X_val).reshape(-1)\n",
    "\n",
    "MSE_train = np.mean((pred_train-Y_train)**2)\n",
    "MSE_val = np.mean((pred_val-Y_val)**2)"
   ]
  },
  {
   "cell_type": "code",
   "execution_count": 131,
   "metadata": {},
   "outputs": [
    {
     "name": "stdout",
     "output_type": "stream",
     "text": [
      "1.2517355675120523\n",
      "0.954668314925454\n"
     ]
    }
   ],
   "source": [
    "print(MSE_train)\n",
    "print(MSE_val)"
   ]
  },
  {
   "cell_type": "markdown",
   "metadata": {},
   "source": [
    "## Selecting a Final Model\n",
    "\n",
    "Now, select the model with the best performance based on the training and validation sets. Evaluate this top model using the test set!"
   ]
  },
  {
   "cell_type": "code",
   "execution_count": null,
   "metadata": {},
   "outputs": [],
   "source": [
    "#Your code here\n",
    "# RMS Prop achieves the lowest MSE on the validation set, and a "
   ]
  },
  {
   "cell_type": "markdown",
   "metadata": {},
   "source": [
    "## Summary  \n",
    "\n",
    "In this lab, you worked to ensure your model converged properly. Additionally, you also investigated the impact of varying initialization and optimization routines."
   ]
  }
 ],
 "metadata": {
  "kernelspec": {
   "display_name": "Python 3",
   "language": "python",
   "name": "python3"
  },
  "language_info": {
   "codemirror_mode": {
    "name": "ipython",
    "version": 3
   },
   "file_extension": ".py",
   "mimetype": "text/x-python",
   "name": "python",
   "nbconvert_exporter": "python",
   "pygments_lexer": "ipython3",
   "version": "3.7.3"
  },
  "toc": {
   "base_numbering": 1,
   "nav_menu": {},
   "number_sections": true,
   "sideBar": true,
   "skip_h1_title": false,
   "title_cell": "Table of Contents",
   "title_sidebar": "Contents",
   "toc_cell": false,
   "toc_position": {},
   "toc_section_display": true,
   "toc_window_display": false
  }
 },
 "nbformat": 4,
 "nbformat_minor": 2
}
